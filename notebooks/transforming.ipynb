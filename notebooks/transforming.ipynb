{
 "cells": [
  {
   "cell_type": "code",
   "execution_count": 1,
   "id": "608024f3",
   "metadata": {},
   "outputs": [
    {
     "name": "stdout",
     "output_type": "stream",
     "text": [
      "Requirement already satisfied: bs4 in /Users/usuari/miniconda3/envs/ironhack/lib/python3.11/site-packages (0.0.1)\n",
      "Requirement already satisfied: beautifulsoup4 in /Users/usuari/miniconda3/envs/ironhack/lib/python3.11/site-packages (from bs4) (4.12.2)\n",
      "Requirement already satisfied: soupsieve>1.2 in /Users/usuari/miniconda3/envs/ironhack/lib/python3.11/site-packages (from beautifulsoup4->bs4) (2.5)\n",
      "Requirement already satisfied: gender-guesser in /Users/usuari/miniconda3/envs/ironhack/lib/python3.11/site-packages (0.4.0)\n"
     ]
    }
   ],
   "source": [
    "# Importing libraries.\n",
    "\n",
    "import pandas as pd\n",
    "import matplotlib.pyplot as plt\n",
    "from matplotlib.pyplot import figure\n",
    "import seaborn as sns\n",
    "import numpy as np\n",
    "import os\n",
    "import re\n",
    "!pip install bs4\n",
    "import requests\n",
    "from bs4 import BeautifulSoup\n",
    "import time\n",
    "import spacy\n",
    "!pip install gender-guesser\n",
    "import gender_guesser.detector as gender"
   ]
  },
  {
   "cell_type": "code",
   "execution_count": 2,
   "id": "d9680984",
   "metadata": {},
   "outputs": [],
   "source": [
    "def last_transforming():\n",
    "    # Import new csv file (from the last function)\n",
    "    horror_books = pd.read_csv(\"/Users/usuari/Desktop/Ironhack/BOOTCAMP/projects/project-II/Data/horror_books_2.csv\",on_bad_lines='skip')\n",
    "    \n",
    "    def standard_birthplace(string):\n",
    "        if string is not None:\n",
    "            lista = string.split(\",\")\n",
    "        if len(lista) == 3:\n",
    "            return \" \".join(lista[1:])\n",
    "        elif len(lista) == 4:\n",
    "            return \" \".join(lista[1:3])\n",
    "        elif len(lista) == 2:\n",
    "            return string\n",
    "        return string  \n",
    "    \n",
    "    horror_books['author_birthplace'] = horror_books['author_birthplace'].apply(standard_birthplace)\n",
    "    \n",
    "    def clean_birthplace(string):\n",
    "        if 'New York' in string:\n",
    "            return 'New York, U.S.'\n",
    "        elif 'London' in string:\n",
    "            return 'London, England'\n",
    "        elif 'Dublin' in string:\n",
    "            return 'Dublin, Ireland'\n",
    "        else:\n",
    "            return string\n",
    "    \n",
    "    horror_books['author_birthplace'] = horror_books['author_birthplace'].apply(clean_birthplace)\n",
    "    \n",
    "    horror_books = horror_books[horror_books['author_birthplace'] != 'Birthplace information not found']\n",
    "    horror_books = horror_books[horror_books['author_birthplace'] != ']']\n",
    "    horror_books = horror_books[horror_books['author_birthplace'] != 'Error: Unable to fetch Wikipedia page']\n",
    "    \n",
    "    return horror_books"
   ]
  }
 ],
 "metadata": {
  "kernelspec": {
   "display_name": "Python 3 (ipykernel)",
   "language": "python",
   "name": "python3"
  },
  "language_info": {
   "codemirror_mode": {
    "name": "ipython",
    "version": 3
   },
   "file_extension": ".py",
   "mimetype": "text/x-python",
   "name": "python",
   "nbconvert_exporter": "python",
   "pygments_lexer": "ipython3",
   "version": "3.11.5"
  }
 },
 "nbformat": 4,
 "nbformat_minor": 5
}
